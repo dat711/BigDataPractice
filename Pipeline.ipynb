{
 "cells": [
  {
   "cell_type": "code",
   "execution_count": 2,
   "id": "4e920d19",
   "metadata": {},
   "outputs": [
    {
     "name": "stderr",
     "output_type": "stream",
     "text": [
      "WARNING:root:'PYARROW_IGNORE_TIMEZONE' environment variable was not set. It is required to set this environment variable to '1' in both driver and executor sides if you use pyarrow>=2.0.0. pandas-on-Spark will set it for you but it does not work if there is a Spark context already launched.\n"
     ]
    }
   ],
   "source": [
    "from pyspark import SparkContext,keyword_only\n",
    "from pyspark.sql import SparkSession,DataFrame\n",
    "from pyspark.conf import SparkConf\n",
    "from pyspark.sql.types import IntegerType, FloatType, ArrayType\n",
    "import pyspark.sql.functions as F\n",
    "from pyspark.sql.functions import *\n",
    "from pyspark.sql.window import Window\n",
    "from pyspark.pandas import date_range\n",
    "from pyspark.ml.feature import VectorAssembler, Vector, DenseVector\n",
    "from pyspark.sql import Row\n",
    "from sklearn import neighbors\n",
    "import random \n",
    "from functools import reduce\n",
    "import pandas as pd \n",
    "import numpy as np\n",
    "import os\n"
   ]
  },
  {
   "cell_type": "code",
   "execution_count": 3,
   "id": "4747ce94",
   "metadata": {},
   "outputs": [
    {
     "data": {
      "text/plain": [
       "<pyspark.conf.SparkConf at 0x28212f3a0>"
      ]
     },
     "execution_count": 3,
     "metadata": {},
     "output_type": "execute_result"
    }
   ],
   "source": [
    "conf = SparkConf()\n",
    "conf.setMaster(\"local\").setAppName(\"My app\")"
   ]
  },
  {
   "cell_type": "code",
   "execution_count": 4,
   "id": "7db007ee",
   "metadata": {},
   "outputs": [
    {
     "data": {
      "text/plain": [
       "'local'"
      ]
     },
     "execution_count": 4,
     "metadata": {},
     "output_type": "execute_result"
    }
   ],
   "source": [
    "conf.get(\"spark.master\")"
   ]
  },
  {
   "cell_type": "code",
   "execution_count": 5,
   "id": "bb236f46",
   "metadata": {},
   "outputs": [
    {
     "data": {
      "text/plain": [
       "'My app'"
      ]
     },
     "execution_count": 5,
     "metadata": {},
     "output_type": "execute_result"
    }
   ],
   "source": [
    "conf.get(\"spark.app.name\")"
   ]
  },
  {
   "cell_type": "code",
   "execution_count": 6,
   "id": "20d8ec91",
   "metadata": {},
   "outputs": [
    {
     "data": {
      "text/plain": [
       "<pyspark.conf.SparkConf at 0x28212f3a0>"
      ]
     },
     "execution_count": 6,
     "metadata": {},
     "output_type": "execute_result"
    }
   ],
   "source": [
    "conf.set(\"spark.driver.bindAddress\", \"127.0.0.1\")"
   ]
  },
  {
   "cell_type": "code",
   "execution_count": 7,
   "id": "ad26b0bd",
   "metadata": {},
   "outputs": [
    {
     "data": {
      "text/plain": [
       "'127.0.0.1'"
      ]
     },
     "execution_count": 7,
     "metadata": {},
     "output_type": "execute_result"
    }
   ],
   "source": [
    "conf.get(\"spark.driver.bindAddress\")"
   ]
  },
  {
   "cell_type": "code",
   "execution_count": 8,
   "id": "47a5f18f",
   "metadata": {},
   "outputs": [
    {
     "name": "stderr",
     "output_type": "stream",
     "text": [
      "Setting default log level to \"WARN\".\n",
      "To adjust logging level use sc.setLogLevel(newLevel). For SparkR, use setLogLevel(newLevel).\n"
     ]
    },
    {
     "name": "stdout",
     "output_type": "stream",
     "text": [
      "22/12/16 19:43:57 WARN NativeCodeLoader: Unable to load native-hadoop library for your platform... using builtin-java classes where applicable\n",
      "22/12/16 19:43:58 WARN Utils: Service 'SparkUI' could not bind on port 4040. Attempting port 4041.\n"
     ]
    }
   ],
   "source": [
    "sc = SparkContext(conf = conf)"
   ]
  },
  {
   "cell_type": "code",
   "execution_count": 9,
   "id": "ce737066",
   "metadata": {},
   "outputs": [
    {
     "data": {
      "text/plain": [
       "['PdM_maint.csv',\n",
       " 'PdM_errors.csv',\n",
       " 'PdM_machines.csv',\n",
       " 'PdM_failures.csv',\n",
       " '.ipynb_checkpoints',\n",
       " 'PdM_telemetry.csv']"
      ]
     },
     "execution_count": 9,
     "metadata": {},
     "output_type": "execute_result"
    }
   ],
   "source": [
    "os.listdir(\"./Azure\")"
   ]
  },
  {
   "cell_type": "code",
   "execution_count": 10,
   "id": "fc2edda3",
   "metadata": {},
   "outputs": [],
   "source": [
    "ses = SparkSession(sparkContext= sc)"
   ]
  },
  {
   "cell_type": "code",
   "execution_count": 11,
   "id": "77a7cbac",
   "metadata": {},
   "outputs": [
    {
     "name": "stderr",
     "output_type": "stream",
     "text": [
      "                                                                                \r"
     ]
    }
   ],
   "source": [
    "maint = ses.read.option(\"header\",True).csv(\"./Azure/Pdm_maint.csv\")\n",
    "errors = ses.read.option(\"header\",True).csv(\"./Azure/PdM_errors.csv\")\n",
    "machines = ses.read.option(\"header\",True).csv(\"./Azure/PdM_machines.csv\")\n",
    "telemetry = ses.read.option(\"header\",True).csv(\"./Azure/PdM_telemetry.csv\")\n",
    "failures = ses.read.option(\"header\",True).csv(\"./Azure/PdM_failures.csv\")"
   ]
  },
  {
   "cell_type": "code",
   "execution_count": 12,
   "id": "8a5e1a8a",
   "metadata": {},
   "outputs": [
    {
     "name": "stdout",
     "output_type": "stream",
     "text": [
      "maint datatypes\n",
      "[('datetime', 'string'), ('machineID', 'string'), ('comp', 'string')]\n",
      "\n",
      "\n",
      "errors datatypes\n",
      "[('datetime', 'string'), ('machineID', 'string'), ('errorID', 'string')]\n",
      "\n",
      "\n",
      "machines datatypes\n",
      "[('machineID', 'string'), ('model', 'string'), ('age', 'string')]\n",
      "\n",
      "\n",
      "telemetry datatypes\n",
      "[('datetime', 'string'), ('machineID', 'string'), ('volt', 'string'), ('rotate', 'string'), ('pressure', 'string'), ('vibration', 'string')]\n",
      "\n",
      "\n",
      "failures datatypes\n",
      "[('datetime', 'string'), ('machineID', 'string'), ('failure', 'string')]\n"
     ]
    }
   ],
   "source": [
    "\"\"\" check datatypes of each dataframe \n",
    "\"\"\"\n",
    "print(\"maint datatypes\")\n",
    "print(maint.dtypes)\n",
    "print(\"\\n\")\n",
    "print(\"errors datatypes\")\n",
    "print(errors.dtypes)\n",
    "print(\"\\n\")\n",
    "print(\"machines datatypes\")\n",
    "print(machines.dtypes)\n",
    "print(\"\\n\")\n",
    "print(\"telemetry datatypes\")\n",
    "print(telemetry.dtypes)\n",
    "print(\"\\n\")\n",
    "print(\"failures datatypes\")\n",
    "print(failures.dtypes)"
   ]
  },
  {
   "cell_type": "code",
   "execution_count": 13,
   "id": "54643929",
   "metadata": {},
   "outputs": [],
   "source": [
    "\"\"\"\n",
    "cast data to the right datatype,\n",
    "ErrorID, MachineID, comp, failures is not needed to be cast, they will be encode later\n",
    "datetime will be cast as timestamp\n",
    "\n",
    "age, volt, rotate, pressure, vibration will be cast as float\n",
    "\"\"\"\n",
    "def String2Date(df):\n",
    "    return df.withColumn(\"datetime\",to_timestamp(\"datetime\"))\n",
    "\n",
    "def String2float(df):\n",
    "    list_column = [\"volt\",\"rotate\",\"pressure\",\"vibration\",\"age\"]\n",
    "    columns = []\n",
    "    for i in df.columns:\n",
    "        if i in list_column:\n",
    "            columns.append(i)\n",
    "    if len(columns) == 0:\n",
    "        return df\n",
    "    for col_name in columns:\n",
    "        df = df.withColumn(col_name, col(col_name).cast('double'))\n",
    "    return df\n",
    "\n",
    "def CastDF(df):\n",
    "    if \"datetime\" in df.columns:\n",
    "        df = df.transform(String2Date)\n",
    "    df = df.transform(String2float)\n",
    "    return df "
   ]
  },
  {
   "cell_type": "code",
   "execution_count": 14,
   "id": "96817778",
   "metadata": {},
   "outputs": [
    {
     "name": "stdout",
     "output_type": "stream",
     "text": [
      "maint datatypes\n",
      "[('datetime', 'timestamp'), ('machineID', 'string'), ('comp', 'string')]\n",
      "\n",
      "\n",
      "errors datatypes\n",
      "[('datetime', 'timestamp'), ('machineID', 'string'), ('errorID', 'string')]\n",
      "\n",
      "\n",
      "machines datatypes\n",
      "[('machineID', 'string'), ('model', 'string'), ('age', 'double')]\n",
      "\n",
      "\n",
      "telemetry datatypes\n",
      "[('datetime', 'timestamp'), ('machineID', 'string'), ('volt', 'double'), ('rotate', 'double'), ('pressure', 'double'), ('vibration', 'double')]\n",
      "\n",
      "\n",
      "failures datatypes\n",
      "[('datetime', 'timestamp'), ('machineID', 'string'), ('failure', 'string')]\n"
     ]
    }
   ],
   "source": [
    "maint = maint.transform(CastDF)\n",
    "errors = errors.transform(CastDF)\n",
    "machines = machines.transform(CastDF)\n",
    "telemetry = telemetry.transform(CastDF)\n",
    "failures = failures.transform(CastDF)\n",
    "\n",
    "\n",
    "\"\"\" \n",
    "check datatypes of each dataframe after transform\n",
    "\"\"\"\n",
    "print(\"maint datatypes\")\n",
    "print(maint.dtypes)\n",
    "print(\"\\n\")\n",
    "print(\"errors datatypes\")\n",
    "print(errors.dtypes)\n",
    "print(\"\\n\")\n",
    "print(\"machines datatypes\")\n",
    "print(machines.dtypes)\n",
    "print(\"\\n\")\n",
    "print(\"telemetry datatypes\")\n",
    "print(telemetry.dtypes)\n",
    "print(\"\\n\")\n",
    "print(\"failures datatypes\")\n",
    "print(failures.dtypes)"
   ]
  },
  {
   "cell_type": "markdown",
   "id": "1e4e9d52",
   "metadata": {},
   "source": [
    "## Build features from each static data features "
   ]
  },
  {
   "cell_type": "code",
   "execution_count": 15,
   "id": "47bd58ce",
   "metadata": {},
   "outputs": [],
   "source": [
    "\"\"\"\n",
    "Helper function \n",
    "\"\"\"\n",
    "\n",
    "# funtion to get the unique class in the columns to encode\n",
    "def get_unique_features_list(df,column):\n",
    "    return df.select(column).distinct().rdd.flatMap(lambda x:x).collect()\n",
    "\n",
    "# create the dummies encode\n",
    "def Dummies_encode(df,column):\n",
    "    category = get_unique_features_list(df,column)\n",
    "    exprs = []\n",
    "    cols = [column]\n",
    "    for cat in category:\n",
    "        number = cat[-1]\n",
    "        col_name = f\"{column}{number}\"\n",
    "        expr = when(col(column) == cat,1).otherwise(0).alias(col_name)\n",
    "        exprs.append(expr)\n",
    "    return df.select(df.columns + exprs)\n",
    "\n",
    "# count the main_column\n",
    "def cum_count_all(df,column,after_fix = \"count\"):\n",
    "    name = f\"{column}_{after_fix}\"\n",
    "    df = df.withColumn(name,df[column])\n",
    "    return df.withColumn(name,row_number().over(Window.partitionBy(\"machineID\").orderBy([\"machineID\",\"datetime\"])))\n",
    "\n",
    "def cum_count(df,columns,after_fix = \"count\"):\n",
    "    for i in columns:\n",
    "        windowval = (Window.partitionBy(\"machineID\").orderBy(\"datetime\")\n",
    "                     .rangeBetween(Window.unboundedPreceding, 0))\n",
    "        name = f\"{i}_{after_fix}\"\n",
    "        df = df.withColumn(name, sum(i).over(windowval))\n",
    "    return df\n",
    "\n"
   ]
  },
  {
   "cell_type": "code",
   "execution_count": 16,
   "id": "cd26e816",
   "metadata": {},
   "outputs": [
    {
     "name": "stdout",
     "output_type": "stream",
     "text": [
      "[('datetime', 'timestamp'), ('machineID', 'string'), ('comp', 'string'), ('comp1', 'int'), ('comp2', 'int'), ('comp3', 'int'), ('comp4', 'int'), ('comp_count', 'int'), ('comp1_count', 'bigint'), ('comp2_count', 'bigint'), ('comp3_count', 'bigint'), ('comp4_count', 'bigint')]\n",
      "+-------------------+---------+-----+-----+-----+-----+-----+----------+-----------+-----------+-----------+-----------+\n",
      "|           datetime|machineID| comp|comp1|comp2|comp3|comp4|comp_count|comp1_count|comp2_count|comp3_count|comp4_count|\n",
      "+-------------------+---------+-----+-----+-----+-----+-----+----------+-----------+-----------+-----------+-----------+\n",
      "|2014-06-01 06:00:00|        1|comp2|    0|    1|    0|    0|         1|          0|          1|          0|          0|\n",
      "|2014-07-16 06:00:00|        1|comp4|    0|    0|    0|    1|         2|          0|          1|          0|          1|\n",
      "|2014-07-31 06:00:00|        1|comp3|    0|    0|    1|    0|         3|          0|          1|          1|          1|\n",
      "|2014-12-13 06:00:00|        1|comp1|    1|    0|    0|    0|         4|          1|          1|          1|          1|\n",
      "|2015-01-05 06:00:00|        1|comp4|    0|    0|    0|    1|         5|          2|          1|          1|          2|\n",
      "|2015-01-05 06:00:00|        1|comp1|    1|    0|    0|    0|         6|          2|          1|          1|          2|\n",
      "|2015-01-20 06:00:00|        1|comp3|    0|    0|    1|    0|         7|          3|          1|          2|          2|\n",
      "|2015-01-20 06:00:00|        1|comp1|    1|    0|    0|    0|         8|          3|          1|          2|          2|\n",
      "|2015-02-04 06:00:00|        1|comp4|    0|    0|    0|    1|         9|          3|          1|          3|          3|\n",
      "|2015-02-04 06:00:00|        1|comp3|    0|    0|    1|    0|        10|          3|          1|          3|          3|\n",
      "|2015-02-19 06:00:00|        1|comp3|    0|    0|    1|    0|        11|          3|          1|          4|          3|\n",
      "|2015-03-06 06:00:00|        1|comp1|    1|    0|    0|    0|        12|          4|          1|          4|          3|\n",
      "|2015-03-21 06:00:00|        1|comp1|    1|    0|    0|    0|        13|          5|          1|          4|          3|\n",
      "|2015-04-05 06:00:00|        1|comp3|    0|    0|    1|    0|        14|          5|          1|          5|          3|\n",
      "|2015-04-20 06:00:00|        1|comp2|    0|    1|    0|    0|        15|          5|          2|          5|          3|\n",
      "|2015-05-05 06:00:00|        1|comp3|    0|    0|    1|    0|        16|          5|          3|          6|          3|\n",
      "|2015-05-05 06:00:00|        1|comp2|    0|    1|    0|    0|        17|          5|          3|          6|          3|\n",
      "|2015-05-20 06:00:00|        1|comp2|    0|    1|    0|    0|        18|          5|          4|          6|          3|\n",
      "|2015-06-04 06:00:00|        1|comp3|    0|    0|    1|    0|        19|          5|          4|          7|          3|\n",
      "|2015-06-19 06:00:00|        1|comp1|    1|    0|    0|    0|        20|          6|          4|          7|          4|\n",
      "+-------------------+---------+-----+-----+-----+-----+-----+----------+-----------+-----------+-----------+-----------+\n",
      "only showing top 20 rows\n",
      "\n"
     ]
    },
    {
     "name": "stderr",
     "output_type": "stream",
     "text": [
      "                                                                                \r"
     ]
    }
   ],
   "source": [
    "\"\"\"\n",
    "Transform maint\n",
    "\"\"\"\n",
    "\n",
    "maint_list = [\"comp1\",\"comp2\",\"comp3\",\"comp4\"]\n",
    "count_maint_list = [i + \"_count\" for i in maint_list]\n",
    "To_show = [\"datetime\",\"machineID\"]\n",
    "To_show.extend(count_maint_list)\n",
    "maint = maint.transform(Dummies_encode,\"comp\").transform(cum_count_all,\"comp\")\\\n",
    ".transform(cum_count,maint_list)\n",
    "print(maint.dtypes)\n",
    "maint.show()"
   ]
  },
  {
   "cell_type": "code",
   "execution_count": 17,
   "id": "7a651f1c",
   "metadata": {
    "scrolled": true
   },
   "outputs": [
    {
     "name": "stdout",
     "output_type": "stream",
     "text": [
      "+-------------------+---------+-----------+-----------+-----------+-----------+\n",
      "|           datetime|machineID|comp1_count|comp2_count|comp3_count|comp4_count|\n",
      "+-------------------+---------+-----------+-----------+-----------+-----------+\n",
      "|2014-06-01 06:00:00|        1|          0|          1|          0|          0|\n",
      "|2014-07-16 06:00:00|        1|          0|          1|          0|          1|\n",
      "|2014-07-31 06:00:00|        1|          0|          1|          1|          1|\n",
      "|2014-12-13 06:00:00|        1|          1|          1|          1|          1|\n",
      "|2015-01-05 06:00:00|        1|          2|          1|          1|          2|\n",
      "|2015-01-05 06:00:00|        1|          2|          1|          1|          2|\n",
      "|2015-01-20 06:00:00|        1|          3|          1|          2|          2|\n",
      "|2015-01-20 06:00:00|        1|          3|          1|          2|          2|\n",
      "|2015-02-04 06:00:00|        1|          3|          1|          3|          3|\n",
      "|2015-02-04 06:00:00|        1|          3|          1|          3|          3|\n",
      "|2015-02-19 06:00:00|        1|          3|          1|          4|          3|\n",
      "|2015-03-06 06:00:00|        1|          4|          1|          4|          3|\n",
      "|2015-03-21 06:00:00|        1|          5|          1|          4|          3|\n",
      "|2015-04-05 06:00:00|        1|          5|          1|          5|          3|\n",
      "|2015-04-20 06:00:00|        1|          5|          2|          5|          3|\n",
      "|2015-05-05 06:00:00|        1|          5|          3|          6|          3|\n",
      "|2015-05-05 06:00:00|        1|          5|          3|          6|          3|\n",
      "|2015-05-20 06:00:00|        1|          5|          4|          6|          3|\n",
      "|2015-06-04 06:00:00|        1|          5|          4|          7|          3|\n",
      "|2015-06-19 06:00:00|        1|          6|          4|          7|          4|\n",
      "+-------------------+---------+-----------+-----------+-----------+-----------+\n",
      "only showing top 20 rows\n",
      "\n"
     ]
    }
   ],
   "source": [
    "# view the summarize features\n",
    "maint.select(To_show).show()"
   ]
  },
  {
   "cell_type": "code",
   "execution_count": 18,
   "id": "f2035e3d",
   "metadata": {
    "scrolled": true
   },
   "outputs": [
    {
     "name": "stdout",
     "output_type": "stream",
     "text": [
      "List of category of errors: ['error3', 'error2', 'error4', 'error5', 'error1']\n",
      "\n",
      "\n",
      "List of category of failures: ['comp1', 'comp2', 'comp3', 'comp4']\n"
     ]
    }
   ],
   "source": [
    "\"\"\"\n",
    "Transform errors, failures \n",
    "\"\"\"\n",
    "\n",
    "print(\"List of category of errors: \", end = \"\")\n",
    "print(get_unique_features_list(errors,\"errorID\"))\n",
    "print(\"\\n\")\n",
    "print(\"List of category of failures: \", end = \"\")\n",
    "print(get_unique_features_list(failures,\"failure\"))"
   ]
  },
  {
   "cell_type": "code",
   "execution_count": 19,
   "id": "b3aa26a7",
   "metadata": {},
   "outputs": [
    {
     "name": "stdout",
     "output_type": "stream",
     "text": [
      "+-------------------+---------+-------+\n",
      "|           datetime|machineID|errorID|\n",
      "+-------------------+---------+-------+\n",
      "|2015-01-03 07:00:00|        1| error1|\n",
      "|2015-01-03 20:00:00|        1| error3|\n",
      "|2015-01-04 06:00:00|        1| error5|\n",
      "|2015-01-10 15:00:00|        1| error4|\n",
      "|2015-01-22 10:00:00|        1| error4|\n",
      "|2015-01-25 15:00:00|        1| error4|\n",
      "|2015-01-27 04:00:00|        1| error1|\n",
      "|2015-03-03 22:00:00|        1| error2|\n",
      "|2015-03-05 06:00:00|        1| error1|\n",
      "|2015-03-20 18:00:00|        1| error1|\n",
      "|2015-03-26 01:00:00|        1| error2|\n",
      "|2015-03-31 23:00:00|        1| error1|\n",
      "|2015-04-19 06:00:00|        1| error2|\n",
      "|2015-04-19 06:00:00|        1| error3|\n",
      "|2015-04-29 19:00:00|        1| error4|\n",
      "|2015-05-04 23:00:00|        1| error2|\n",
      "|2015-05-12 09:00:00|        1| error1|\n",
      "|2015-05-21 07:00:00|        1| error4|\n",
      "|2015-05-24 02:00:00|        1| error3|\n",
      "|2015-05-25 05:00:00|        1| error1|\n",
      "+-------------------+---------+-------+\n",
      "only showing top 20 rows\n",
      "\n"
     ]
    }
   ],
   "source": [
    "errors.show()"
   ]
  },
  {
   "cell_type": "code",
   "execution_count": 20,
   "id": "c5f62671",
   "metadata": {
    "scrolled": true
   },
   "outputs": [],
   "source": [
    "# dummies_encode columns\n",
    "errors_features = [\"errorID\" + i[-1] for i in get_unique_features_list(errors,\"errorID\")]\n",
    "failures_features = [\"failure\" + i[-1] for i in get_unique_features_list(failures,\"failure\")]\n",
    "\n",
    "# dummies_count columns \n",
    "errors_count_features = [i + \"_count\" for i in errors_features]\n",
    "failures_count_features = [i + \"_count\" for i in failures_features]\n",
    "\n",
    "# transform errors and failures \n",
    "errors = errors.transform(Dummies_encode,\"errorID\").transform(cum_count_all,\"errorID\")\\\n",
    ".transform(cum_count,errors_features)\n",
    "\n",
    "failures = failures.transform(Dummies_encode,\"failure\").transform(cum_count_all,\"failure\")\\\n",
    ".transform(cum_count,failures_features)"
   ]
  },
  {
   "cell_type": "code",
   "execution_count": 21,
   "id": "bda56094",
   "metadata": {},
   "outputs": [
    {
     "name": "stdout",
     "output_type": "stream",
     "text": [
      "+-------------------+---------+-------+--------+--------+--------+--------+-------------+--------------+--------------+--------------+--------------+\n",
      "|           datetime|machineID|failure|failure1|failure2|failure3|failure4|failure_count|failure1_count|failure2_count|failure3_count|failure4_count|\n",
      "+-------------------+---------+-------+--------+--------+--------+--------+-------------+--------------+--------------+--------------+--------------+\n",
      "|2015-01-05 06:00:00|        1|  comp4|       0|       0|       0|       1|            1|             0|             0|             0|             1|\n",
      "|2015-03-06 06:00:00|        1|  comp1|       1|       0|       0|       0|            2|             1|             0|             0|             1|\n",
      "|2015-04-20 06:00:00|        1|  comp2|       0|       1|       0|       0|            3|             1|             1|             0|             1|\n",
      "|2015-06-19 06:00:00|        1|  comp4|       0|       0|       0|       1|            4|             1|             1|             0|             2|\n",
      "|2015-09-02 06:00:00|        1|  comp4|       0|       0|       0|       1|            5|             1|             1|             0|             3|\n",
      "|2015-10-17 06:00:00|        1|  comp2|       0|       1|       0|       0|            6|             1|             2|             0|             3|\n",
      "|2015-12-16 06:00:00|        1|  comp4|       0|       0|       0|       1|            7|             1|             2|             0|             4|\n",
      "|2015-01-19 06:00:00|       10|  comp2|       0|       1|       0|       0|            1|             0|             1|             0|             0|\n",
      "|2015-04-04 06:00:00|       10|  comp2|       0|       1|       0|       0|            2|             0|             2|             0|             0|\n",
      "|2015-05-19 06:00:00|       10|  comp2|       0|       1|       0|       0|            3|             0|             3|             0|             0|\n",
      "|2015-06-03 06:00:00|       10|  comp1|       1|       0|       0|       0|            4|             1|             3|             0|             0|\n",
      "|2015-06-18 06:00:00|       10|  comp2|       0|       1|       0|       0|            5|             1|             4|             0|             0|\n",
      "|2015-02-12 06:00:00|      100|  comp1|       1|       0|       0|       0|            1|             1|             0|             0|             0|\n",
      "|2015-09-10 06:00:00|      100|  comp1|       1|       0|       0|       0|            2|             2|             0|             0|             0|\n",
      "|2015-12-09 06:00:00|      100|  comp2|       0|       1|       0|       0|            3|             2|             1|             0|             0|\n",
      "|2015-01-20 06:00:00|       11|  comp2|       0|       1|       0|       0|            1|             0|             1|             0|             0|\n",
      "|2015-02-19 06:00:00|       11|  comp3|       0|       0|       1|       0|            2|             0|             1|             1|             0|\n",
      "|2015-04-20 06:00:00|       11|  comp2|       0|       1|       0|       0|            3|             0|             2|             2|             0|\n",
      "|2015-04-20 06:00:00|       11|  comp3|       0|       0|       1|       0|            4|             0|             2|             2|             0|\n",
      "|2015-10-02 06:00:00|       11|  comp3|       0|       0|       1|       0|            5|             0|             2|             3|             0|\n",
      "+-------------------+---------+-------+--------+--------+--------+--------+-------------+--------------+--------------+--------------+--------------+\n",
      "only showing top 20 rows\n",
      "\n"
     ]
    }
   ],
   "source": [
    "failures.show()"
   ]
  },
  {
   "cell_type": "code",
   "execution_count": 22,
   "id": "185aedc7",
   "metadata": {},
   "outputs": [
    {
     "name": "stdout",
     "output_type": "stream",
     "text": [
      "+-------------------+---------+-------+--------+--------+--------+--------+--------+-------------+--------------+--------------+--------------+--------------+--------------+\n",
      "|           datetime|machineID|errorID|errorID3|errorID2|errorID4|errorID5|errorID1|errorID_count|errorID3_count|errorID2_count|errorID4_count|errorID5_count|errorID1_count|\n",
      "+-------------------+---------+-------+--------+--------+--------+--------+--------+-------------+--------------+--------------+--------------+--------------+--------------+\n",
      "|2015-01-03 07:00:00|        1| error1|       0|       0|       0|       0|       1|            1|             0|             0|             0|             0|             1|\n",
      "|2015-01-03 20:00:00|        1| error3|       1|       0|       0|       0|       0|            2|             1|             0|             0|             0|             1|\n",
      "|2015-01-04 06:00:00|        1| error5|       0|       0|       0|       1|       0|            3|             1|             0|             0|             1|             1|\n",
      "|2015-01-10 15:00:00|        1| error4|       0|       0|       1|       0|       0|            4|             1|             0|             1|             1|             1|\n",
      "|2015-01-22 10:00:00|        1| error4|       0|       0|       1|       0|       0|            5|             1|             0|             2|             1|             1|\n",
      "|2015-01-25 15:00:00|        1| error4|       0|       0|       1|       0|       0|            6|             1|             0|             3|             1|             1|\n",
      "|2015-01-27 04:00:00|        1| error1|       0|       0|       0|       0|       1|            7|             1|             0|             3|             1|             2|\n",
      "|2015-03-03 22:00:00|        1| error2|       0|       1|       0|       0|       0|            8|             1|             1|             3|             1|             2|\n",
      "|2015-03-05 06:00:00|        1| error1|       0|       0|       0|       0|       1|            9|             1|             1|             3|             1|             3|\n",
      "|2015-03-20 18:00:00|        1| error1|       0|       0|       0|       0|       1|           10|             1|             1|             3|             1|             4|\n",
      "|2015-03-26 01:00:00|        1| error2|       0|       1|       0|       0|       0|           11|             1|             2|             3|             1|             4|\n",
      "|2015-03-31 23:00:00|        1| error1|       0|       0|       0|       0|       1|           12|             1|             2|             3|             1|             5|\n",
      "|2015-04-19 06:00:00|        1| error2|       0|       1|       0|       0|       0|           13|             2|             3|             3|             1|             5|\n",
      "|2015-04-19 06:00:00|        1| error3|       1|       0|       0|       0|       0|           14|             2|             3|             3|             1|             5|\n",
      "|2015-04-29 19:00:00|        1| error4|       0|       0|       1|       0|       0|           15|             2|             3|             4|             1|             5|\n",
      "|2015-05-04 23:00:00|        1| error2|       0|       1|       0|       0|       0|           16|             2|             4|             4|             1|             5|\n",
      "|2015-05-12 09:00:00|        1| error1|       0|       0|       0|       0|       1|           17|             2|             4|             4|             1|             6|\n",
      "|2015-05-21 07:00:00|        1| error4|       0|       0|       1|       0|       0|           18|             2|             4|             5|             1|             6|\n",
      "|2015-05-24 02:00:00|        1| error3|       1|       0|       0|       0|       0|           19|             3|             4|             5|             1|             6|\n",
      "|2015-05-25 05:00:00|        1| error1|       0|       0|       0|       0|       1|           20|             3|             4|             5|             1|             7|\n",
      "+-------------------+---------+-------+--------+--------+--------+--------+--------+-------------+--------------+--------------+--------------+--------------+--------------+\n",
      "only showing top 20 rows\n",
      "\n"
     ]
    }
   ],
   "source": [
    "errors.show()"
   ]
  },
  {
   "cell_type": "code",
   "execution_count": 23,
   "id": "d6727ac2",
   "metadata": {
    "scrolled": true
   },
   "outputs": [
    {
     "name": "stdout",
     "output_type": "stream",
     "text": [
      "+---------+-------------------+----------------+----------------+----------------+----------------+------+----+\n",
      "|machineID|           datetime|            volt|          rotate|        pressure|       vibration| model| age|\n",
      "+---------+-------------------+----------------+----------------+----------------+----------------+------+----+\n",
      "|        1|2015-01-01 06:00:00|176.217853015625|418.504078221616|113.077935462083|45.0876857639276|model3|18.0|\n",
      "|        1|2015-01-01 07:00:00| 162.87922289706|402.747489565395|95.4605253823187|43.4139726834815|model3|18.0|\n",
      "|        1|2015-01-01 08:00:00|170.989902405567|527.349825452291|75.2379048586662|34.1788471214451|model3|18.0|\n",
      "|        1|2015-01-01 09:00:00|162.462833264092|346.149335043074|109.248561276504|41.1221440884256|model3|18.0|\n",
      "|        1|2015-01-01 10:00:00| 157.61002119306|435.376873016938|111.886648210168|25.9905109982024|model3|18.0|\n",
      "|        1|2015-01-01 11:00:00|172.504839196295|430.323362106675|95.9270416939636|35.6550173268837|model3|18.0|\n",
      "|        1|2015-01-01 12:00:00|156.556030606329|499.071623068962|111.755684290096|42.7539196974773|model3|18.0|\n",
      "|        1|2015-01-01 13:00:00|172.522780814836|409.624717000438| 101.00108276407|35.4820086610704|model3|18.0|\n",
      "|        1|2015-01-01 14:00:00|175.324523915223|398.648780707752|110.624360548654|45.4822868466294|model3|18.0|\n",
      "|        1|2015-01-01 15:00:00|169.218423246933|460.850669930244|104.848229967003|39.9017354356787|model3|18.0|\n",
      "|        1|2015-01-01 16:00:00|167.060980719256|382.483542906686|103.780662505568|42.6757999060571|model3|18.0|\n",
      "|        1|2015-01-01 17:00:00|160.263953725914|448.084255968416|96.4809756730127|38.5436809273919|model3|18.0|\n",
      "|        1|2015-01-01 18:00:00|153.353491529019|490.672921027229|86.0124402476987|44.1085543746712|model3|18.0|\n",
      "|        1|2015-01-01 19:00:00|182.739113039826|418.199251966527|93.4849540613739|41.3671897268129|model3|18.0|\n",
      "|        1|2015-01-01 20:00:00| 170.33543789114|402.461186552994|93.2357870560117|39.7398826787247|model3|18.0|\n",
      "|        1|2015-01-01 21:00:00|182.467109259603|501.918972726944|85.7626146951866|51.0214861151087|model3|18.0|\n",
      "|        1|2015-01-01 22:00:00|151.335682229837|444.922656455828|94.2473713287117|42.1196520943364|model3|18.0|\n",
      "|        1|2015-01-01 23:00:00|172.535396206493|511.886364263088|91.3294290707084|32.2488323711174|model3|18.0|\n",
      "|        1|2015-01-02 00:00:00|180.097494604215|486.712303934437|96.7339151541194|38.8967757315964|model3|18.0|\n",
      "|        1|2015-01-02 01:00:00|169.605854353272|519.452812074631|78.8807795743296|40.1568749074533|model3|18.0|\n",
      "+---------+-------------------+----------------+----------------+----------------+----------------+------+----+\n",
      "only showing top 20 rows\n",
      "\n"
     ]
    }
   ],
   "source": [
    "\"\"\"\n",
    "Join telemetry and machines dataframes\n",
    "\"\"\"\n",
    "\n",
    "telemetry = telemetry.join(machines, on = \"machineID\",how = \"left\")\n",
    "telemetry.show()"
   ]
  },
  {
   "cell_type": "code",
   "execution_count": 24,
   "id": "d686f416",
   "metadata": {
    "scrolled": true
   },
   "outputs": [
    {
     "name": "stdout",
     "output_type": "stream",
     "text": [
      "time stamp of min maint date: 1401577200.0\n"
     ]
    },
    {
     "name": "stderr",
     "output_type": "stream",
     "text": [
      "                                                                                \r"
     ]
    },
    {
     "name": "stdout",
     "output_type": "stream",
     "text": [
      "time stamp of min date: 1420066800.0\n"
     ]
    },
    {
     "name": "stderr",
     "output_type": "stream",
     "text": [
      "[Stage 49:>                                                         (0 + 1) / 1]\r"
     ]
    },
    {
     "name": "stdout",
     "output_type": "stream",
     "text": [
      "time stamp of max date: 1451602800.0\n"
     ]
    },
    {
     "name": "stderr",
     "output_type": "stream",
     "text": [
      "                                                                                \r"
     ]
    }
   ],
   "source": [
    "\"\"\"\n",
    "Extend features of time stamp for period analysis: \n",
    "We do this through three steps:\n",
    "create a minimum values of datetime\n",
    "create time range from that begin - end \n",
    "add machine ID (Done)\n",
    "merge to needed features from dataframes - ex: errors, maint, failure\n",
    "select only the count columns \n",
    "fillna count columns with 0, \n",
    "using max(upper preceding window to current) to perform cum_max\n",
    "perform function to create lookup_table \n",
    "and update table (look at the trial notebook in Machine_Learning folder)\n",
    "\"\"\"\n",
    "min_maint_date = maint.select(min(col(\"datetime\"))).collect()[0][0].timestamp()\n",
    "print(f\"time stamp of min maint date: {min_maint_date}\")\n",
    "min_date = telemetry.select(min(col(\"datetime\"))).collect()[0][0].timestamp()\n",
    "print(f\"time stamp of min date: {min_date}\")\n",
    "max_date = telemetry.select(max(col(\"datetime\"))).collect()[0][0].timestamp()\n",
    "print(f\"time stamp of max date: {max_date}\")\n"
   ]
  },
  {
   "cell_type": "code",
   "execution_count": 25,
   "id": "ceaf5f31",
   "metadata": {},
   "outputs": [],
   "source": [
    "\"\"\"\n",
    "create subdf contain only features that needed for analyzing\n",
    "\"\"\"\n",
    "# maint subdf\n",
    "maint_count_columns = [\"datetime\",\"machineID\",\"comp_count\",\"comp1_count\", \\\n",
    "                       \"comp2_count\",\"comp3_count\", \"comp4_count\"]\n",
    "maint_count_features = maint.select(maint_count_columns)\n",
    "\n",
    "# errors subdf \n",
    "failures_count_columns = [\"datetime\",\"machineID\",\"failure_count\", \"failure1_count\", \\\n",
    "                          \"failure2_count\", \"failure3_count\", \"failure4_count\"]\n",
    "failures_count_features = failures.select(failures_count_columns)\n",
    "\n",
    "# errors subdf\n",
    "errors_count_columns = [\"datetime\",\"machineID\",\"errorID_count\",\"errorID1_count\", \\\n",
    "                        \"errorID2_count\", \"errorID3_count\", \"errorID4_count\"]\n",
    "errors_count_features = errors.select(errors_count_columns)\n"
   ]
  },
  {
   "cell_type": "code",
   "execution_count": 26,
   "id": "e75ca4e5",
   "metadata": {
    "scrolled": true
   },
   "outputs": [],
   "source": [
    "\"\"\"\n",
    "we create a different time df for maint because they're having data back to 2014\n",
    "while the other dataframe only having data in 2015 \n",
    "\"\"\"\n",
    "maint_time_df = ses.range(min_maint_date,max_date,step =3600)\\\n",
    ".withColumn(\"id\",from_unixtime(\"id\")) \\\n",
    ".withColumn(\"id\",to_timestamp(\"id\")) \\\n",
    ".withColumnRenamed(\"id\",\"datetime\")\n",
    "\n",
    "time_df = ses.range(min_date,max_date,step =3600)\\\n",
    ".withColumn(\"id\",from_unixtime(\"id\")) \\\n",
    ".withColumn(\"id\",to_timestamp(\"id\")) \\\n",
    ".withColumnRenamed(\"id\",\"datetime\")\n",
    "\n",
    "\"\"\"\n",
    "Adding the machineID\n",
    "\"\"\"\n",
    "\n",
    "maint_time_dfs = []\n",
    "for i in range(1,101):\n",
    "    maint_time_dfs.append(maint_time_df.withColumn(\"machineID\",lit(str(i))))\n",
    "maintTimeDFs = reduce(DataFrame.unionAll, maint_time_dfs)\n",
    "\n",
    "time_dfs = []\n",
    "for i in range(1,101):\n",
    "    time_dfs.append(time_df.withColumn(\"machineID\",lit(str(i))))\n",
    "timeDFs = reduce(DataFrame.unionAll, time_dfs)\n"
   ]
  },
  {
   "cell_type": "code",
   "execution_count": 27,
   "id": "053c13e7",
   "metadata": {},
   "outputs": [],
   "source": [
    "\"\"\"\n",
    "Helper functions, explaination of each will be commeted on the functions itself\n",
    "\"\"\"\n",
    "\n",
    "def date_of_last_event(df,event_column):\n",
    "    \"\"\"\n",
    "    get the date since last event happened\n",
    "    \"\"\"\n",
    "    windowval = (Window.partitionBy([\"machineID\",event_column]).orderBy(\"datetime\")\n",
    "                 .rangeBetween(Window.unboundedPreceding, 0))\n",
    "    name = event_column.split(\"_\")[0]\n",
    "    name = f\"{name}_date\"\n",
    "    df = df.withColumn(name, min(\"datetime\").over(windowval))\n",
    "    return df\n",
    "\n",
    "def fillna(df,values_dict):\n",
    "    return df.na.fill(values_dict)\n",
    "\n",
    "def cum_max(df,columns):\n",
    "    \"\"\"\n",
    "    get the max values of a columns partition by its machineID, index by datetime\n",
    "    \"\"\"\n",
    "    for i in columns:\n",
    "        if i != \"datetime\" and i != \"machineID\":\n",
    "            windowval = (Window.partitionBy(\"machineID\").orderBy(\"datetime\")\n",
    "                         .rangeBetween(Window.unboundedPreceding, 0))\n",
    "            name = f\"{i}_max\"\n",
    "            df = df.withColumn(i, max(i).over(windowval))\n",
    "    return df\n",
    "\n",
    "\"\"\"\n",
    "Adding columns of the timestamp an event happens\n",
    "Ex: when did the last component change happen\n",
    "\"\"\"\n",
    "def create_date_features(df_time):\n",
    "    \"\"\"\n",
    "    Explain code: \n",
    "    the function iterate through the dataframe columns \n",
    "    At each iteration: \n",
    "    The function create partition dataframe using 2 columns: machineID and that column\n",
    "    the new features added will be the min(datetime) of the partition dataframe \n",
    "    that features reflect the first date the event happen:\n",
    "    \n",
    "    df_time : dataframe that haven't extract information of period since last events yet\n",
    "    Ex: timeDFs, maintDFs\n",
    "    \"\"\"\n",
    "    for i in df_time.columns:\n",
    "        if i != \"datetime\" and i != \"machineID\":\n",
    "            df_time = df_time.transform(date_of_last_event,i)\n",
    "    return df_time\n",
    "\n",
    "\"\"\"\n",
    "adding column of how long since a last event happen\n",
    "Ex: when did the last component change happen \n",
    "\"\"\"\n",
    "\n",
    "def get_period(df):\n",
    "    \"\"\"\n",
    "    Transform information about the date of the last events happend\n",
    "    to the period since that events happen (in hours)\n",
    "    \"\"\"\n",
    "    for i in df.columns:\n",
    "        if i != \"datetime\" and \"date\" in i:\n",
    "            col_name = i.split(\"_\")[0]\n",
    "            col_name = f\"period_{col_name}\"\n",
    "            df = df.withColumn(col_name,(col(\"datetime\").cast(\"long\") - \n",
    "                                         col(i).cast(\"long\"))/3600)\n",
    "    return df\n",
    "\n",
    "def selected_columns(df):\n",
    "    \"\"\"\n",
    "    Return dataframe contain only the columns we need, the period since the last events happend\n",
    "    and the \"machineID\" and \"Datetime\" to be indexer match with original dataframe\n",
    "    \"\"\"\n",
    "    columns = [\"datetime\",\"machineID\"]\n",
    "    for i in df.columns:\n",
    "        if \"period\" in i:\n",
    "            columns.append(i)\n",
    "    return df.select(columns)"
   ]
  },
  {
   "cell_type": "code",
   "execution_count": 28,
   "id": "a57af4d0",
   "metadata": {
    "scrolled": true
   },
   "outputs": [],
   "source": [
    "\"\"\"\n",
    "Merge subdf with created time df to create features of period since last event\n",
    "\"\"\"\n",
    "\n",
    "maintTimeDFs = maintTimeDFs.join(maint_count_features, \n",
    "on =[\"datetime\",\"machineID\"], how = \"left\").na.fill(0) \\\n",
    ".transform(cum_max, maintTimeDFs.columns)\\\n",
    ".transform(create_date_features) \\\n",
    ".transform(get_period)\n",
    "\n",
    "\n",
    "timeDFs = timeDFs.join(failures_count_features, on =[\"datetime\",\"machineID\"], how = \"left\").join(\n",
    "errors_count_features, on = [\"datetime\",\"machineID\"], how = \"left\").na.fill(0) \\\n",
    ".transform(cum_max,timeDFs.columns) \\\n",
    ".transform(create_date_features) \\\n",
    ".transform(get_period)"
   ]
  },
  {
   "cell_type": "code",
   "execution_count": 29,
   "id": "3dbe8934",
   "metadata": {
    "scrolled": true
   },
   "outputs": [
    {
     "name": "stderr",
     "output_type": "stream",
     "text": [
      "[Stage 69:>                                                         (0 + 1) / 1]\r"
     ]
    },
    {
     "name": "stdout",
     "output_type": "stream",
     "text": [
      "+-------------------+---------+----------+-----------+-----------+-----------+-----------+-------------------+-------------------+-------------------+-------------------+-------------------+-----------+------------+------------+------------+------------+\n",
      "|           datetime|machineID|comp_count|comp1_count|comp2_count|comp3_count|comp4_count|          comp_date|         comp1_date|         comp2_date|         comp3_date|         comp4_date|period_comp|period_comp1|period_comp2|period_comp3|period_comp4|\n",
      "+-------------------+---------+----------+-----------+-----------+-----------+-----------+-------------------+-------------------+-------------------+-------------------+-------------------+-----------+------------+------------+------------+------------+\n",
      "|2014-06-01 06:00:00|        1|         1|          0|          1|          0|          0|2014-06-01 06:00:00|2014-06-01 06:00:00|2014-06-01 06:00:00|2014-06-01 06:00:00|2014-06-01 06:00:00|        0.0|         0.0|         0.0|         0.0|         0.0|\n",
      "|2014-06-01 07:00:00|        1|         0|          0|          0|          0|          0|2014-06-01 07:00:00|2014-06-01 06:00:00|2014-06-01 07:00:00|2014-06-01 06:00:00|2014-06-01 06:00:00|        0.0|         1.0|         0.0|         1.0|         1.0|\n",
      "|2014-06-01 08:00:00|        1|         0|          0|          0|          0|          0|2014-06-01 07:00:00|2014-06-01 06:00:00|2014-06-01 07:00:00|2014-06-01 06:00:00|2014-06-01 06:00:00|        1.0|         2.0|         1.0|         2.0|         2.0|\n",
      "|2014-06-01 09:00:00|        1|         0|          0|          0|          0|          0|2014-06-01 07:00:00|2014-06-01 06:00:00|2014-06-01 07:00:00|2014-06-01 06:00:00|2014-06-01 06:00:00|        2.0|         3.0|         2.0|         3.0|         3.0|\n",
      "|2014-06-01 10:00:00|        1|         0|          0|          0|          0|          0|2014-06-01 07:00:00|2014-06-01 06:00:00|2014-06-01 07:00:00|2014-06-01 06:00:00|2014-06-01 06:00:00|        3.0|         4.0|         3.0|         4.0|         4.0|\n",
      "|2014-06-01 11:00:00|        1|         0|          0|          0|          0|          0|2014-06-01 07:00:00|2014-06-01 06:00:00|2014-06-01 07:00:00|2014-06-01 06:00:00|2014-06-01 06:00:00|        4.0|         5.0|         4.0|         5.0|         5.0|\n",
      "|2014-06-01 12:00:00|        1|         0|          0|          0|          0|          0|2014-06-01 07:00:00|2014-06-01 06:00:00|2014-06-01 07:00:00|2014-06-01 06:00:00|2014-06-01 06:00:00|        5.0|         6.0|         5.0|         6.0|         6.0|\n",
      "|2014-06-01 13:00:00|        1|         0|          0|          0|          0|          0|2014-06-01 07:00:00|2014-06-01 06:00:00|2014-06-01 07:00:00|2014-06-01 06:00:00|2014-06-01 06:00:00|        6.0|         7.0|         6.0|         7.0|         7.0|\n",
      "|2014-06-01 14:00:00|        1|         0|          0|          0|          0|          0|2014-06-01 07:00:00|2014-06-01 06:00:00|2014-06-01 07:00:00|2014-06-01 06:00:00|2014-06-01 06:00:00|        7.0|         8.0|         7.0|         8.0|         8.0|\n",
      "|2014-06-01 15:00:00|        1|         0|          0|          0|          0|          0|2014-06-01 07:00:00|2014-06-01 06:00:00|2014-06-01 07:00:00|2014-06-01 06:00:00|2014-06-01 06:00:00|        8.0|         9.0|         8.0|         9.0|         9.0|\n",
      "|2014-06-01 16:00:00|        1|         0|          0|          0|          0|          0|2014-06-01 07:00:00|2014-06-01 06:00:00|2014-06-01 07:00:00|2014-06-01 06:00:00|2014-06-01 06:00:00|        9.0|        10.0|         9.0|        10.0|        10.0|\n",
      "|2014-06-01 17:00:00|        1|         0|          0|          0|          0|          0|2014-06-01 07:00:00|2014-06-01 06:00:00|2014-06-01 07:00:00|2014-06-01 06:00:00|2014-06-01 06:00:00|       10.0|        11.0|        10.0|        11.0|        11.0|\n",
      "|2014-06-01 18:00:00|        1|         0|          0|          0|          0|          0|2014-06-01 07:00:00|2014-06-01 06:00:00|2014-06-01 07:00:00|2014-06-01 06:00:00|2014-06-01 06:00:00|       11.0|        12.0|        11.0|        12.0|        12.0|\n",
      "|2014-06-01 19:00:00|        1|         0|          0|          0|          0|          0|2014-06-01 07:00:00|2014-06-01 06:00:00|2014-06-01 07:00:00|2014-06-01 06:00:00|2014-06-01 06:00:00|       12.0|        13.0|        12.0|        13.0|        13.0|\n",
      "|2014-06-01 20:00:00|        1|         0|          0|          0|          0|          0|2014-06-01 07:00:00|2014-06-01 06:00:00|2014-06-01 07:00:00|2014-06-01 06:00:00|2014-06-01 06:00:00|       13.0|        14.0|        13.0|        14.0|        14.0|\n",
      "|2014-06-01 21:00:00|        1|         0|          0|          0|          0|          0|2014-06-01 07:00:00|2014-06-01 06:00:00|2014-06-01 07:00:00|2014-06-01 06:00:00|2014-06-01 06:00:00|       14.0|        15.0|        14.0|        15.0|        15.0|\n",
      "|2014-06-01 22:00:00|        1|         0|          0|          0|          0|          0|2014-06-01 07:00:00|2014-06-01 06:00:00|2014-06-01 07:00:00|2014-06-01 06:00:00|2014-06-01 06:00:00|       15.0|        16.0|        15.0|        16.0|        16.0|\n",
      "|2014-06-01 23:00:00|        1|         0|          0|          0|          0|          0|2014-06-01 07:00:00|2014-06-01 06:00:00|2014-06-01 07:00:00|2014-06-01 06:00:00|2014-06-01 06:00:00|       16.0|        17.0|        16.0|        17.0|        17.0|\n",
      "|2014-06-02 00:00:00|        1|         0|          0|          0|          0|          0|2014-06-01 07:00:00|2014-06-01 06:00:00|2014-06-01 07:00:00|2014-06-01 06:00:00|2014-06-01 06:00:00|       17.0|        18.0|        17.0|        18.0|        18.0|\n",
      "|2014-06-02 01:00:00|        1|         0|          0|          0|          0|          0|2014-06-01 07:00:00|2014-06-01 06:00:00|2014-06-01 07:00:00|2014-06-01 06:00:00|2014-06-01 06:00:00|       18.0|        19.0|        18.0|        19.0|        19.0|\n",
      "+-------------------+---------+----------+-----------+-----------+-----------+-----------+-------------------+-------------------+-------------------+-------------------+-------------------+-----------+------------+------------+------------+------------+\n",
      "only showing top 20 rows\n",
      "\n"
     ]
    },
    {
     "name": "stderr",
     "output_type": "stream",
     "text": [
      "                                                                                \r"
     ]
    }
   ],
   "source": [
    "maintTimeDFs.show()"
   ]
  },
  {
   "cell_type": "code",
   "execution_count": 30,
   "id": "934bd5bc",
   "metadata": {},
   "outputs": [
    {
     "name": "stdout",
     "output_type": "stream",
     "text": [
      "22/12/16 19:44:42 WARN package: Truncated the string representation of a plan since it was too large. This behavior can be adjusted by setting 'spark.sql.debug.maxToStringFields'.\n"
     ]
    },
    {
     "name": "stderr",
     "output_type": "stream",
     "text": [
      "[Stage 136:=========================================================(1 + 0) / 1]\r"
     ]
    },
    {
     "name": "stdout",
     "output_type": "stream",
     "text": [
      "+-------------------+---------+-------------+--------------+--------------+--------------+--------------+-------------+--------------+--------------+--------------+--------------+-------------------+-------------------+-------------------+-------------------+-------------------+-------------------+-------------------+-------------------+-------------------+-------------------+--------------+---------------+---------------+---------------+---------------+--------------+---------------+---------------+---------------+---------------+\n",
      "|           datetime|machineID|failure_count|failure1_count|failure2_count|failure3_count|failure4_count|errorID_count|errorID1_count|errorID2_count|errorID3_count|errorID4_count|       failure_date|      failure1_date|      failure2_date|      failure3_date|      failure4_date|       errorID_date|      errorID1_date|      errorID2_date|      errorID3_date|      errorID4_date|period_failure|period_failure1|period_failure2|period_failure3|period_failure4|period_errorID|period_errorID1|period_errorID2|period_errorID3|period_errorID4|\n",
      "+-------------------+---------+-------------+--------------+--------------+--------------+--------------+-------------+--------------+--------------+--------------+--------------+-------------------+-------------------+-------------------+-------------------+-------------------+-------------------+-------------------+-------------------+-------------------+-------------------+--------------+---------------+---------------+---------------+---------------+--------------+---------------+---------------+---------------+---------------+\n",
      "|2015-01-01 06:00:00|        1|            0|             0|             0|             0|             0|            0|             0|             0|             0|             0|2015-01-01 06:00:00|2015-01-01 06:00:00|2015-01-01 06:00:00|2015-01-01 06:00:00|2015-01-01 06:00:00|2015-01-01 06:00:00|2015-01-01 06:00:00|2015-01-01 06:00:00|2015-01-01 06:00:00|2015-01-01 06:00:00|           0.0|            0.0|            0.0|            0.0|            0.0|           0.0|            0.0|            0.0|            0.0|            0.0|\n",
      "|2015-01-01 07:00:00|        1|            0|             0|             0|             0|             0|            0|             0|             0|             0|             0|2015-01-01 06:00:00|2015-01-01 06:00:00|2015-01-01 06:00:00|2015-01-01 06:00:00|2015-01-01 06:00:00|2015-01-01 06:00:00|2015-01-01 06:00:00|2015-01-01 06:00:00|2015-01-01 06:00:00|2015-01-01 06:00:00|           1.0|            1.0|            1.0|            1.0|            1.0|           1.0|            1.0|            1.0|            1.0|            1.0|\n",
      "|2015-01-01 08:00:00|        1|            0|             0|             0|             0|             0|            0|             0|             0|             0|             0|2015-01-01 06:00:00|2015-01-01 06:00:00|2015-01-01 06:00:00|2015-01-01 06:00:00|2015-01-01 06:00:00|2015-01-01 06:00:00|2015-01-01 06:00:00|2015-01-01 06:00:00|2015-01-01 06:00:00|2015-01-01 06:00:00|           2.0|            2.0|            2.0|            2.0|            2.0|           2.0|            2.0|            2.0|            2.0|            2.0|\n",
      "|2015-01-01 09:00:00|        1|            0|             0|             0|             0|             0|            0|             0|             0|             0|             0|2015-01-01 06:00:00|2015-01-01 06:00:00|2015-01-01 06:00:00|2015-01-01 06:00:00|2015-01-01 06:00:00|2015-01-01 06:00:00|2015-01-01 06:00:00|2015-01-01 06:00:00|2015-01-01 06:00:00|2015-01-01 06:00:00|           3.0|            3.0|            3.0|            3.0|            3.0|           3.0|            3.0|            3.0|            3.0|            3.0|\n",
      "|2015-01-01 10:00:00|        1|            0|             0|             0|             0|             0|            0|             0|             0|             0|             0|2015-01-01 06:00:00|2015-01-01 06:00:00|2015-01-01 06:00:00|2015-01-01 06:00:00|2015-01-01 06:00:00|2015-01-01 06:00:00|2015-01-01 06:00:00|2015-01-01 06:00:00|2015-01-01 06:00:00|2015-01-01 06:00:00|           4.0|            4.0|            4.0|            4.0|            4.0|           4.0|            4.0|            4.0|            4.0|            4.0|\n",
      "|2015-01-01 11:00:00|        1|            0|             0|             0|             0|             0|            0|             0|             0|             0|             0|2015-01-01 06:00:00|2015-01-01 06:00:00|2015-01-01 06:00:00|2015-01-01 06:00:00|2015-01-01 06:00:00|2015-01-01 06:00:00|2015-01-01 06:00:00|2015-01-01 06:00:00|2015-01-01 06:00:00|2015-01-01 06:00:00|           5.0|            5.0|            5.0|            5.0|            5.0|           5.0|            5.0|            5.0|            5.0|            5.0|\n",
      "|2015-01-01 12:00:00|        1|            0|             0|             0|             0|             0|            0|             0|             0|             0|             0|2015-01-01 06:00:00|2015-01-01 06:00:00|2015-01-01 06:00:00|2015-01-01 06:00:00|2015-01-01 06:00:00|2015-01-01 06:00:00|2015-01-01 06:00:00|2015-01-01 06:00:00|2015-01-01 06:00:00|2015-01-01 06:00:00|           6.0|            6.0|            6.0|            6.0|            6.0|           6.0|            6.0|            6.0|            6.0|            6.0|\n",
      "|2015-01-01 13:00:00|        1|            0|             0|             0|             0|             0|            0|             0|             0|             0|             0|2015-01-01 06:00:00|2015-01-01 06:00:00|2015-01-01 06:00:00|2015-01-01 06:00:00|2015-01-01 06:00:00|2015-01-01 06:00:00|2015-01-01 06:00:00|2015-01-01 06:00:00|2015-01-01 06:00:00|2015-01-01 06:00:00|           7.0|            7.0|            7.0|            7.0|            7.0|           7.0|            7.0|            7.0|            7.0|            7.0|\n",
      "|2015-01-01 14:00:00|        1|            0|             0|             0|             0|             0|            0|             0|             0|             0|             0|2015-01-01 06:00:00|2015-01-01 06:00:00|2015-01-01 06:00:00|2015-01-01 06:00:00|2015-01-01 06:00:00|2015-01-01 06:00:00|2015-01-01 06:00:00|2015-01-01 06:00:00|2015-01-01 06:00:00|2015-01-01 06:00:00|           8.0|            8.0|            8.0|            8.0|            8.0|           8.0|            8.0|            8.0|            8.0|            8.0|\n",
      "|2015-01-01 15:00:00|        1|            0|             0|             0|             0|             0|            0|             0|             0|             0|             0|2015-01-01 06:00:00|2015-01-01 06:00:00|2015-01-01 06:00:00|2015-01-01 06:00:00|2015-01-01 06:00:00|2015-01-01 06:00:00|2015-01-01 06:00:00|2015-01-01 06:00:00|2015-01-01 06:00:00|2015-01-01 06:00:00|           9.0|            9.0|            9.0|            9.0|            9.0|           9.0|            9.0|            9.0|            9.0|            9.0|\n",
      "|2015-01-01 16:00:00|        1|            0|             0|             0|             0|             0|            0|             0|             0|             0|             0|2015-01-01 06:00:00|2015-01-01 06:00:00|2015-01-01 06:00:00|2015-01-01 06:00:00|2015-01-01 06:00:00|2015-01-01 06:00:00|2015-01-01 06:00:00|2015-01-01 06:00:00|2015-01-01 06:00:00|2015-01-01 06:00:00|          10.0|           10.0|           10.0|           10.0|           10.0|          10.0|           10.0|           10.0|           10.0|           10.0|\n",
      "|2015-01-01 17:00:00|        1|            0|             0|             0|             0|             0|            0|             0|             0|             0|             0|2015-01-01 06:00:00|2015-01-01 06:00:00|2015-01-01 06:00:00|2015-01-01 06:00:00|2015-01-01 06:00:00|2015-01-01 06:00:00|2015-01-01 06:00:00|2015-01-01 06:00:00|2015-01-01 06:00:00|2015-01-01 06:00:00|          11.0|           11.0|           11.0|           11.0|           11.0|          11.0|           11.0|           11.0|           11.0|           11.0|\n",
      "|2015-01-01 18:00:00|        1|            0|             0|             0|             0|             0|            0|             0|             0|             0|             0|2015-01-01 06:00:00|2015-01-01 06:00:00|2015-01-01 06:00:00|2015-01-01 06:00:00|2015-01-01 06:00:00|2015-01-01 06:00:00|2015-01-01 06:00:00|2015-01-01 06:00:00|2015-01-01 06:00:00|2015-01-01 06:00:00|          12.0|           12.0|           12.0|           12.0|           12.0|          12.0|           12.0|           12.0|           12.0|           12.0|\n",
      "|2015-01-01 19:00:00|        1|            0|             0|             0|             0|             0|            0|             0|             0|             0|             0|2015-01-01 06:00:00|2015-01-01 06:00:00|2015-01-01 06:00:00|2015-01-01 06:00:00|2015-01-01 06:00:00|2015-01-01 06:00:00|2015-01-01 06:00:00|2015-01-01 06:00:00|2015-01-01 06:00:00|2015-01-01 06:00:00|          13.0|           13.0|           13.0|           13.0|           13.0|          13.0|           13.0|           13.0|           13.0|           13.0|\n",
      "|2015-01-01 20:00:00|        1|            0|             0|             0|             0|             0|            0|             0|             0|             0|             0|2015-01-01 06:00:00|2015-01-01 06:00:00|2015-01-01 06:00:00|2015-01-01 06:00:00|2015-01-01 06:00:00|2015-01-01 06:00:00|2015-01-01 06:00:00|2015-01-01 06:00:00|2015-01-01 06:00:00|2015-01-01 06:00:00|          14.0|           14.0|           14.0|           14.0|           14.0|          14.0|           14.0|           14.0|           14.0|           14.0|\n",
      "|2015-01-01 21:00:00|        1|            0|             0|             0|             0|             0|            0|             0|             0|             0|             0|2015-01-01 06:00:00|2015-01-01 06:00:00|2015-01-01 06:00:00|2015-01-01 06:00:00|2015-01-01 06:00:00|2015-01-01 06:00:00|2015-01-01 06:00:00|2015-01-01 06:00:00|2015-01-01 06:00:00|2015-01-01 06:00:00|          15.0|           15.0|           15.0|           15.0|           15.0|          15.0|           15.0|           15.0|           15.0|           15.0|\n",
      "|2015-01-01 22:00:00|        1|            0|             0|             0|             0|             0|            0|             0|             0|             0|             0|2015-01-01 06:00:00|2015-01-01 06:00:00|2015-01-01 06:00:00|2015-01-01 06:00:00|2015-01-01 06:00:00|2015-01-01 06:00:00|2015-01-01 06:00:00|2015-01-01 06:00:00|2015-01-01 06:00:00|2015-01-01 06:00:00|          16.0|           16.0|           16.0|           16.0|           16.0|          16.0|           16.0|           16.0|           16.0|           16.0|\n",
      "|2015-01-01 23:00:00|        1|            0|             0|             0|             0|             0|            0|             0|             0|             0|             0|2015-01-01 06:00:00|2015-01-01 06:00:00|2015-01-01 06:00:00|2015-01-01 06:00:00|2015-01-01 06:00:00|2015-01-01 06:00:00|2015-01-01 06:00:00|2015-01-01 06:00:00|2015-01-01 06:00:00|2015-01-01 06:00:00|          17.0|           17.0|           17.0|           17.0|           17.0|          17.0|           17.0|           17.0|           17.0|           17.0|\n",
      "|2015-01-02 00:00:00|        1|            0|             0|             0|             0|             0|            0|             0|             0|             0|             0|2015-01-01 06:00:00|2015-01-01 06:00:00|2015-01-01 06:00:00|2015-01-01 06:00:00|2015-01-01 06:00:00|2015-01-01 06:00:00|2015-01-01 06:00:00|2015-01-01 06:00:00|2015-01-01 06:00:00|2015-01-01 06:00:00|          18.0|           18.0|           18.0|           18.0|           18.0|          18.0|           18.0|           18.0|           18.0|           18.0|\n",
      "|2015-01-02 01:00:00|        1|            0|             0|             0|             0|             0|            0|             0|             0|             0|             0|2015-01-01 06:00:00|2015-01-01 06:00:00|2015-01-01 06:00:00|2015-01-01 06:00:00|2015-01-01 06:00:00|2015-01-01 06:00:00|2015-01-01 06:00:00|2015-01-01 06:00:00|2015-01-01 06:00:00|2015-01-01 06:00:00|          19.0|           19.0|           19.0|           19.0|           19.0|          19.0|           19.0|           19.0|           19.0|           19.0|\n",
      "+-------------------+---------+-------------+--------------+--------------+--------------+--------------+-------------+--------------+--------------+--------------+--------------+-------------------+-------------------+-------------------+-------------------+-------------------+-------------------+-------------------+-------------------+-------------------+-------------------+--------------+---------------+---------------+---------------+---------------+--------------+---------------+---------------+---------------+---------------+\n",
      "only showing top 20 rows\n",
      "\n"
     ]
    },
    {
     "name": "stderr",
     "output_type": "stream",
     "text": [
      "                                                                                \r"
     ]
    }
   ],
   "source": [
    "timeDFs.show()"
   ]
  },
  {
   "cell_type": "code",
   "execution_count": 31,
   "id": "f086c1f1",
   "metadata": {},
   "outputs": [],
   "source": [
    "\"\"\"\n",
    "combine time dataframe and the telemetry dataframe \n",
    "\"\"\"\n",
    "telemetry = telemetry.join(timeDFs, on = [\"machineID\",\"datetime\"], how = \"left\") \\\n",
    ".join(maintTimeDFs, on = [\"machineID\",\"datetime\"], how = \"left\")"
   ]
  },
  {
   "cell_type": "code",
   "execution_count": 32,
   "id": "22626cc9",
   "metadata": {},
   "outputs": [],
   "source": [
    "def filternull(df,columns):\n",
    "    df = df.filter(col(columns[0]).isNull())\n",
    "    columns = columns[1:]\n",
    "    if len(columns) > 0:\n",
    "        return filternull(df,columns)\n",
    "    return df "
   ]
  },
  {
   "cell_type": "code",
   "execution_count": 33,
   "id": "bae56e29-c6ab-4d69-932d-70e6ddc3691d",
   "metadata": {},
   "outputs": [],
   "source": [
    "\"\"\"\n",
    "Create features count number of events between maintanance \n",
    "ex: \n",
    "number of errors happened since the last maintainance\n",
    "\"\"\"\n",
    "\n",
    "def cum_count_between_maint(df, columns, after_fix = \"since_last_maint\"):\n",
    "    for i in columns:\n",
    "        windowval = (Window.partitionBy([\"machineID\",\"comp_count\"]).orderBy(\"datetime\")\n",
    "                         .rangeBetween(Window.unboundedPreceding, 0))\n",
    "        name = f\"{i}_{after_fix}\"\n",
    "        df = df.withColumn(name, sum(i).over(windowval))\n",
    "    return df      "
   ]
  },
  {
   "cell_type": "code",
   "execution_count": 34,
   "id": "122424f8-c4ab-4435-93be-1252cd2b7bcc",
   "metadata": {},
   "outputs": [
    {
     "name": "stdout",
     "output_type": "stream",
     "text": [
      "+-------------------+---------+-------+--------+--------+--------+--------+--------+-------------+--------------+--------------+--------------+--------------+--------------+\n",
      "|           datetime|machineID|errorID|errorID3|errorID2|errorID4|errorID5|errorID1|errorID_count|errorID3_count|errorID2_count|errorID4_count|errorID5_count|errorID1_count|\n",
      "+-------------------+---------+-------+--------+--------+--------+--------+--------+-------------+--------------+--------------+--------------+--------------+--------------+\n",
      "|2015-01-03 07:00:00|        1| error1|       0|       0|       0|       0|       1|            1|             0|             0|             0|             0|             1|\n",
      "|2015-01-03 20:00:00|        1| error3|       1|       0|       0|       0|       0|            2|             1|             0|             0|             0|             1|\n",
      "|2015-01-04 06:00:00|        1| error5|       0|       0|       0|       1|       0|            3|             1|             0|             0|             1|             1|\n",
      "|2015-01-10 15:00:00|        1| error4|       0|       0|       1|       0|       0|            4|             1|             0|             1|             1|             1|\n",
      "|2015-01-22 10:00:00|        1| error4|       0|       0|       1|       0|       0|            5|             1|             0|             2|             1|             1|\n",
      "+-------------------+---------+-------+--------+--------+--------+--------+--------+-------------+--------------+--------------+--------------+--------------+--------------+\n",
      "\n"
     ]
    }
   ],
   "source": [
    "errors.limit(5).show()"
   ]
  },
  {
   "cell_type": "code",
   "execution_count": 35,
   "id": "e377dc85-5584-44a3-8308-4d3dae4639a8",
   "metadata": {},
   "outputs": [],
   "source": [
    "col_errors = [\"datetime\",\"machineID\",\"errorID\",\"errorID1\",\"errorID2\",\"errorID3\",\"errorID4\",\"errorID5\"]\n",
    "telemetry = telemetry.join(errors.select(col_errors), on = [\"datetime\",\"machineID\"], how = \"left\")"
   ]
  },
  {
   "cell_type": "code",
   "execution_count": 36,
   "id": "6e6f7104-ae41-48c4-b732-02d1ae6722ab",
   "metadata": {},
   "outputs": [
    {
     "data": {
      "text/plain": [
       "['errorID1', 'errorID2', 'errorID3', 'errorID4', 'errorID5']"
      ]
     },
     "execution_count": 36,
     "metadata": {},
     "output_type": "execute_result"
    }
   ],
   "source": [
    "col_errors[3:]"
   ]
  },
  {
   "cell_type": "code",
   "execution_count": 37,
   "id": "bf725813-0cf3-471f-8dfc-bbc070ce3d2a",
   "metadata": {},
   "outputs": [],
   "source": [
    "for i in col_errors[3:]:\n",
    "    telemetry = telemetry.na.fill({i:0})    "
   ]
  },
  {
   "cell_type": "code",
   "execution_count": 38,
   "id": "fd849cc6-d50c-4f76-bd41-7bfc96561e0a",
   "metadata": {},
   "outputs": [],
   "source": [
    "telemetry = telemetry.na.fill({\"errorID\":\"ok\"})"
   ]
  },
  {
   "cell_type": "code",
   "execution_count": 39,
   "id": "c7ccc63a-ada6-40dd-ab34-9e5d986b0557",
   "metadata": {},
   "outputs": [],
   "source": [
    "def get_encode(name):\n",
    "    if name == \"ok\":\n",
    "        return 0\n",
    "    return 1 \n",
    "encode_errors_udf = F.udf(lambda s:get_encode(s),IntegerType())"
   ]
  },
  {
   "cell_type": "code",
   "execution_count": 40,
   "id": "6a76809e-17f0-4839-827f-2898a13bf4b2",
   "metadata": {},
   "outputs": [],
   "source": [
    "telemetry = telemetry.withColumn(\"errorID\",encode_errors_udf(\"errorID\") )"
   ]
  },
  {
   "cell_type": "code",
   "execution_count": 41,
   "id": "31a850fd-9ab3-4a5d-a85d-82ead2adae89",
   "metadata": {},
   "outputs": [
    {
     "name": "stderr",
     "output_type": "stream",
     "text": [
      "[Stage 252:=========================================================(1 + 0) / 1]\r"
     ]
    },
    {
     "name": "stdout",
     "output_type": "stream",
     "text": [
      "22/12/16 19:45:30 WARN DAGScheduler: Broadcasting large task binary with size 1087.7 KiB\n"
     ]
    },
    {
     "name": "stderr",
     "output_type": "stream",
     "text": [
      "                                                                                \r"
     ]
    },
    {
     "data": {
      "text/plain": [
       "0"
      ]
     },
     "execution_count": 41,
     "metadata": {},
     "output_type": "execute_result"
    }
   ],
   "source": [
    "telemetry.limit(1).collect()[0][\"errorID\"]"
   ]
  },
  {
   "cell_type": "code",
   "execution_count": 42,
   "id": "5a4ecc30-a311-47f2-bda6-4e5c7f803796",
   "metadata": {},
   "outputs": [],
   "source": [
    "telemetry = telemetry.transform(cum_count_between_maint,col_errors[2:])"
   ]
  },
  {
   "cell_type": "code",
   "execution_count": 43,
   "id": "e5c6af04-3a0c-4283-836b-eca24280b50a",
   "metadata": {},
   "outputs": [
    {
     "name": "stderr",
     "output_type": "stream",
     "text": [
      "[Stage 370:>                                                        (0 + 1) / 1]\r"
     ]
    },
    {
     "name": "stdout",
     "output_type": "stream",
     "text": [
      "22/12/16 19:46:05 WARN DAGScheduler: Broadcasting large task binary with size 1087.8 KiB\n"
     ]
    },
    {
     "name": "stderr",
     "output_type": "stream",
     "text": [
      "[Stage 389:============================>                            (1 + 1) / 2]\r"
     ]
    },
    {
     "name": "stdout",
     "output_type": "stream",
     "text": [
      "22/12/16 19:46:15 WARN DAGScheduler: Broadcasting large task binary with size 1234.1 KiB\n"
     ]
    },
    {
     "name": "stderr",
     "output_type": "stream",
     "text": [
      "                                                                                \r"
     ]
    }
   ],
   "source": [
    "telemetry.write.option(\"header\",True).csv(\"./pipeline_res/transformed.csv\")"
   ]
  }
 ],
 "metadata": {
  "kernelspec": {
   "display_name": "Python 3 (ipykernel)",
   "language": "python",
   "name": "python3"
  },
  "language_info": {
   "codemirror_mode": {
    "name": "ipython",
    "version": 3
   },
   "file_extension": ".py",
   "mimetype": "text/x-python",
   "name": "python",
   "nbconvert_exporter": "python",
   "pygments_lexer": "ipython3",
   "version": "3.10.8"
  }
 },
 "nbformat": 4,
 "nbformat_minor": 5
}
